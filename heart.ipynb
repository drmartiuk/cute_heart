{
 "cells": [
  {
   "cell_type": "code",
   "execution_count": 1,
   "id": "02396b90-be98-40f6-8fd1-7e2905e140fe",
   "metadata": {},
   "outputs": [
    {
     "name": "stdout",
     "output_type": "stream",
     "text": [
      "                                                            \n",
      "                                                            \n",
      "                                                            \n",
      "                VELOVELOV           VELOVELOV               \n",
      "            ELOVELOVELOVELOVE   ELOVELOVELOVELOVE           \n",
      "          VELOVELOVELOVELOVELOVELOVELOVELOVELOVELOV         \n",
      "         VELOVELOVELOVELOVELOVELOVELOVELOVELOVELOVEL        \n",
      "        VELOVELOVELOVELOVELOVELOVELOVELOVELOVELOVELOV       \n",
      "        ELOVELOVELOVELOVELOVELOVELOVELOVELOVELOVELOVE       \n",
      "        LOVELOVELOVELOVELOVELOVELOVELOVELOVELOVELOVEL       \n",
      "        OVELOVELOVELOVELOVELOVELOVELOVELOVELOVELOVELO       \n",
      "        VELOVELOVELOVELOVELOVELOVELOVELOVELOVELOVELOV       \n",
      "        ELOVELOVELOVELOVELOVELOVELOVELOVELOVELOVELOVE       \n",
      "         OVELOVELOVELOVELOVELOVELOVELOVELOVELOVELOVE        \n",
      "          ELOVELOVELOVELOVELOVELOVELOVELOVELOVELOVE         \n",
      "          LOVELOVELOVELOVELOVELOVELOVELOVELOVELOVEL         \n",
      "            ELOVELOVELOVELOVELOVELOVELOVELOVELOVE           \n",
      "             OVELOVELOVELOVELOVELOVELOVELOVELOVE            \n",
      "              ELOVELOVELOVELOVELOVELOVELOVELOVE             \n",
      "                VELOVELOVELOVELOVELOVELOVELOV               \n",
      "                  OVELOVELOVELOVELOVELOVELO                 \n",
      "                    LOVELOVELOVELOVELOVEL                   \n",
      "                       LOVELOVELOVELOV                      \n",
      "                          LOVELOVEL                         \n",
      "                             LOV                            \n",
      "                              V                             \n",
      "                                                            \n",
      "                                                            \n",
      "                                                            \n",
      "                                                            \n"
     ]
    }
   ],
   "source": [
    "print('\\n'.join\n",
    " ([''.join\n",
    "   ([('LOVE'[(x-y)%4 ]\n",
    "     if((x*0.05)**2+(y*0.1)**2-1)\n",
    "      **3-(x*0.05)**2*(y*0.1)\n",
    "       **3<=0 else ' ')\n",
    "        for x in range(-30,30)])\n",
    "         for y in range(15,-15,-1)]))"
   ]
  },
  {
   "cell_type": "code",
   "execution_count": null,
   "id": "05122fdf",
   "metadata": {},
   "outputs": [],
   "source": []
  }
 ],
 "metadata": {
  "kernelspec": {
   "display_name": "Python 3 (ipykernel)",
   "language": "python",
   "name": "python3"
  },
  "language_info": {
   "codemirror_mode": {
    "name": "ipython",
    "version": 3
   },
   "file_extension": ".py",
   "mimetype": "text/x-python",
   "name": "python",
   "nbconvert_exporter": "python",
   "pygments_lexer": "ipython3",
   "version": "3.12.2"
  }
 },
 "nbformat": 4,
 "nbformat_minor": 5
}
